{
 "cells": [
  {
   "cell_type": "markdown",
   "metadata": {},
   "source": [
    "## Introdução à Séries\n",
    "\n",
    "Vamos dar uma olhada na seguinte 'tabela' que contém uma lista de Empresas de Tecnologia de ponta e suas receitas (em milhões de dólares):"
   ]
  },
  {
   "cell_type": "markdown",
   "metadata": {},
   "source": [
    "\n",
    "\n",
    "\n",
    "<center>\n",
    "<div class=\"figure\" >\n",
    "  <img src=\"img/companies-revenue-seires.png\"\n",
    "       width=\"300\"> \n",
    "  <p>Figura 1 - Empresas.</p>\n",
    "</div>\n",
    "<center/>\n",
    "\n"
   ]
  },
  {
   "cell_type": "markdown",
   "metadata": {},
   "source": [
    "Uma série pandas nos ajudará a representar esses dados. A sintaxe para criar uma série é:\n",
    "\n",
    "\n",
    "`import pandas as pd`\n",
    "\n",
    "`pd.Series(data, index, name=\"A name\")`"
   ]
  },
  {
   "cell_type": "code",
   "execution_count": 1,
   "metadata": {},
   "outputs": [],
   "source": [
    "import pandas as pd"
   ]
  },
  {
   "cell_type": "code",
   "execution_count": null,
   "metadata": {},
   "outputs": [],
   "source": [
    "\n",
    "Os principais componentes de uma Série são:\n",
    "\n",
    "+ dados: estes são os dados que queremos representar, e obviamente, poderíamos dizer o componente \"mais importante\" da série. No nosso exemplo, os dados são as receitas das empresas.\n",
    "\n",
    "+ índice: o índice indica as \"etiquetas\" dos dados que estamos armazenando. Usaremos o índice para \"referenciar\" os dados posteriormente. Os índices não são obrigatórios; o pandas atribuirá um índice sequencial padrão se não fornecermos um.\n",
    "\n",
    "+ nome: uma série pode conter um \"nome\"; isso fará mais sentido quando começarmos a usar DataFrames. Por agora, pense nele como uma \"documentação\" adicional; mais clareza ao trabalhar com seu código. Os nomes são opcionais.\"\n",
    "\n",
    "\n",
    "\n",
    "Vamos representá-las usando uma Série da seguinte forma:"
   ]
  },
  {
   "cell_type": "code",
   "execution_count": 2,
   "metadata": {},
   "outputs": [],
   "source": [
    "empresas =[ \n",
    "    'Apple', 'Samsung', 'Alphabet', 'Foxconn',\n",
    "    'Microsoft',  'Huawei', 'Dell Technologies',\n",
    "    'Meta', 'Sony', 'Hitachi', 'Intel',\n",
    "    'IBM', 'Tencent', 'Panasonic'\n",
    "]"
   ]
  },
  {
   "cell_type": "code",
   "execution_count": 3,
   "metadata": {},
   "outputs": [],
   "source": [
    "s = pd.Series([\n",
    "    274515, 200734, 182527, 181945, 143015,\n",
    "    129184, 92224, 85965, 84893, 82345,\n",
    "    77867, 73620, 69864, 63191],\n",
    "    index=empresas,\n",
    "    name=\"Principais Empresas de Tecnologia por Receita\")"
   ]
  },
  {
   "cell_type": "code",
   "execution_count": 4,
   "metadata": {},
   "outputs": [
    {
     "data": {
      "text/plain": [
       "Apple                274515\n",
       "Samsung              200734\n",
       "Alphabet             182527\n",
       "Foxconn              181945\n",
       "Microsoft            143015\n",
       "Huawei               129184\n",
       "Dell Technologies     92224\n",
       "Meta                  85965\n",
       "Sony                  84893\n",
       "Hitachi               82345\n",
       "Intel                 77867\n",
       "IBM                   73620\n",
       "Tencent               69864\n",
       "Panasonic             63191\n",
       "Name: Principais Empresas de Tecnologia por Receita, dtype: int64"
      ]
     },
     "execution_count": 4,
     "metadata": {},
     "output_type": "execute_result"
    }
   ],
   "source": [
    "s"
   ]
  },
  {
   "cell_type": "markdown",
   "metadata": {},
   "source": [
    "### Construindo Séries\n",
    "Criamos uma série chamada minha_serie que contém três elementos: `9,11 e -5` . O índice da série é definido como sendo ['a','b', 'c'] e o nome como \"Minha primeira série\" "
   ]
  },
  {
   "cell_type": "code",
   "execution_count": 5,
   "metadata": {},
   "outputs": [
    {
     "data": {
      "text/plain": [
       "a     9\n",
       "b    11\n",
       "c    -5\n",
       "Name: Minha primeira série, dtype: int64"
      ]
     },
     "execution_count": 5,
     "metadata": {},
     "output_type": "execute_result"
    }
   ],
   "source": [
    "minha_serie = pd.Series([\n",
    "    9,11,-5], \n",
    "    index = ['a','b','c'],\n",
    "    name = \"Minha primeira série\")\n",
    "minha_serie"
   ]
  },
  {
   "cell_type": "markdown",
   "metadata": {},
   "source": [
    "##  Seleção básica e localização"
   ]
  },
  {
   "cell_type": "markdown",
   "metadata": {},
   "source": [
    "### Seleção por índice\n",
    "\n",
    "Utilizamos o índice da Série para fazer referência e localizar os dados associados a um determinado label.\n",
    "\n",
    "Por exemplo, para obter a receita da Apple, podemos fazer: s[\"Apple\"]. Isso funciona, como você pode ver no notebook. Mas você também verá que usamos o atributo .loc, tornando-o: s.loc[\"Apple\"]. Este é o método preferido para fazer referência aos valores. "
   ]
  },
  {
   "cell_type": "code",
   "execution_count": 6,
   "metadata": {},
   "outputs": [
    {
     "data": {
      "text/plain": [
       "274515"
      ]
     },
     "execution_count": 6,
     "metadata": {},
     "output_type": "execute_result"
    }
   ],
   "source": [
    "s['Apple']"
   ]
  },
  {
   "cell_type": "code",
   "execution_count": 7,
   "metadata": {},
   "outputs": [
    {
     "data": {
      "text/plain": [
       "274515"
      ]
     },
     "execution_count": 7,
     "metadata": {},
     "output_type": "execute_result"
    }
   ],
   "source": [
    "s.loc['Apple']"
   ]
  },
  {
   "cell_type": "markdown",
   "metadata": {},
   "source": [
    "### Seleção por posição\n",
    "\n",
    "Também podemos selecionar elementos pela sua 'ordem'. Afinal, como mencionamos na seção anterior, as Séries são estruturas de dados ordenadas. Portanto, podemos selecionar um elemento pela sua posição: por exemplo, o 'primeiro', 'último', 'terceiro' ou '253º' elemento. \n",
    "Para selecionar um elemento pela sua posição, utilizamos o atributo .iloc. A beleza do .iloc é que, assim como a seleção em listas do Python, ele aceita números negativos para fazer referência a elementos a partir do final da série. Isso significa que .iloc[-1] retorna o ÚLTIMO elemento na série."
   ]
  },
  {
   "cell_type": "code",
   "execution_count": 8,
   "metadata": {},
   "outputs": [
    {
     "data": {
      "text/plain": [
       "274515"
      ]
     },
     "execution_count": 8,
     "metadata": {},
     "output_type": "execute_result"
    }
   ],
   "source": [
    "# Primeiro elemento da série\n",
    "s.iloc[0]"
   ]
  },
  {
   "cell_type": "code",
   "execution_count": 9,
   "metadata": {},
   "outputs": [
    {
     "data": {
      "text/plain": [
       "63191"
      ]
     },
     "execution_count": 9,
     "metadata": {},
     "output_type": "execute_result"
    }
   ],
   "source": [
    "# Último elemento da série\n",
    "s.iloc[-1]"
   ]
  },
  {
   "cell_type": "markdown",
   "metadata": {},
   "source": [
    "### Erros na seleção\n",
    "Se você tentar retornar um elemento que não existe, isso causará um erro. Isso funciona de maneira bastante semelhante aos dicionários e listas do Python. A seleção pelo índice (.loc) resulta em um KeyError (como em dicionários) e a seleção pela posição resulta em um IndexError, assim como acontece com as listas.\n",
    "\n",
    "Na maioria das vezes, você pode evitar esses erros usando o operador de associação 'in', que verifica se um elemento dado faz parte do índice."
   ]
  },
  {
   "cell_type": "code",
   "execution_count": 15,
   "metadata": {},
   "outputs": [
    {
     "ename": "KeyError",
     "evalue": "'Empresa que não existe'",
     "output_type": "error",
     "traceback": [
      "\u001b[1;31m---------------------------------------------------------------------------\u001b[0m",
      "\u001b[1;31mKeyError\u001b[0m                                  Traceback (most recent call last)",
      "File \u001b[1;32mc:\\Users\\brend\\AppData\\Local\\Programs\\Python\\Python311\\Lib\\site-packages\\pandas\\core\\indexes\\base.py:3653\u001b[0m, in \u001b[0;36mIndex.get_loc\u001b[1;34m(self, key)\u001b[0m\n\u001b[0;32m   3652\u001b[0m \u001b[39mtry\u001b[39;00m:\n\u001b[1;32m-> 3653\u001b[0m     \u001b[39mreturn\u001b[39;00m \u001b[39mself\u001b[39;49m\u001b[39m.\u001b[39;49m_engine\u001b[39m.\u001b[39;49mget_loc(casted_key)\n\u001b[0;32m   3654\u001b[0m \u001b[39mexcept\u001b[39;00m \u001b[39mKeyError\u001b[39;00m \u001b[39mas\u001b[39;00m err:\n",
      "File \u001b[1;32mc:\\Users\\brend\\AppData\\Local\\Programs\\Python\\Python311\\Lib\\site-packages\\pandas\\_libs\\index.pyx:147\u001b[0m, in \u001b[0;36mpandas._libs.index.IndexEngine.get_loc\u001b[1;34m()\u001b[0m\n",
      "File \u001b[1;32mc:\\Users\\brend\\AppData\\Local\\Programs\\Python\\Python311\\Lib\\site-packages\\pandas\\_libs\\index.pyx:176\u001b[0m, in \u001b[0;36mpandas._libs.index.IndexEngine.get_loc\u001b[1;34m()\u001b[0m\n",
      "File \u001b[1;32mpandas\\_libs\\hashtable_class_helper.pxi:7080\u001b[0m, in \u001b[0;36mpandas._libs.hashtable.PyObjectHashTable.get_item\u001b[1;34m()\u001b[0m\n",
      "File \u001b[1;32mpandas\\_libs\\hashtable_class_helper.pxi:7088\u001b[0m, in \u001b[0;36mpandas._libs.hashtable.PyObjectHashTable.get_item\u001b[1;34m()\u001b[0m\n",
      "\u001b[1;31mKeyError\u001b[0m: 'Empresa que não existe'",
      "\nThe above exception was the direct cause of the following exception:\n",
      "\u001b[1;31mKeyError\u001b[0m                                  Traceback (most recent call last)",
      "Cell \u001b[1;32mIn[15], line 2\u001b[0m\n\u001b[0;32m      1\u001b[0m \u001b[39m# Esse código vai falhar\u001b[39;00m\n\u001b[1;32m----> 2\u001b[0m s\u001b[39m.\u001b[39;49mloc[\u001b[39m\"\u001b[39;49m\u001b[39mEmpresa que não existe\u001b[39;49m\u001b[39m\"\u001b[39;49m]\n",
      "File \u001b[1;32mc:\\Users\\brend\\AppData\\Local\\Programs\\Python\\Python311\\Lib\\site-packages\\pandas\\core\\indexing.py:1103\u001b[0m, in \u001b[0;36m_LocationIndexer.__getitem__\u001b[1;34m(self, key)\u001b[0m\n\u001b[0;32m   1100\u001b[0m axis \u001b[39m=\u001b[39m \u001b[39mself\u001b[39m\u001b[39m.\u001b[39maxis \u001b[39mor\u001b[39;00m \u001b[39m0\u001b[39m\n\u001b[0;32m   1102\u001b[0m maybe_callable \u001b[39m=\u001b[39m com\u001b[39m.\u001b[39mapply_if_callable(key, \u001b[39mself\u001b[39m\u001b[39m.\u001b[39mobj)\n\u001b[1;32m-> 1103\u001b[0m \u001b[39mreturn\u001b[39;00m \u001b[39mself\u001b[39;49m\u001b[39m.\u001b[39;49m_getitem_axis(maybe_callable, axis\u001b[39m=\u001b[39;49maxis)\n",
      "File \u001b[1;32mc:\\Users\\brend\\AppData\\Local\\Programs\\Python\\Python311\\Lib\\site-packages\\pandas\\core\\indexing.py:1343\u001b[0m, in \u001b[0;36m_LocIndexer._getitem_axis\u001b[1;34m(self, key, axis)\u001b[0m\n\u001b[0;32m   1341\u001b[0m \u001b[39m# fall thru to straight lookup\u001b[39;00m\n\u001b[0;32m   1342\u001b[0m \u001b[39mself\u001b[39m\u001b[39m.\u001b[39m_validate_key(key, axis)\n\u001b[1;32m-> 1343\u001b[0m \u001b[39mreturn\u001b[39;00m \u001b[39mself\u001b[39;49m\u001b[39m.\u001b[39;49m_get_label(key, axis\u001b[39m=\u001b[39;49maxis)\n",
      "File \u001b[1;32mc:\\Users\\brend\\AppData\\Local\\Programs\\Python\\Python311\\Lib\\site-packages\\pandas\\core\\indexing.py:1293\u001b[0m, in \u001b[0;36m_LocIndexer._get_label\u001b[1;34m(self, label, axis)\u001b[0m\n\u001b[0;32m   1291\u001b[0m \u001b[39mdef\u001b[39;00m \u001b[39m_get_label\u001b[39m(\u001b[39mself\u001b[39m, label, axis: AxisInt):\n\u001b[0;32m   1292\u001b[0m     \u001b[39m# GH#5567 this will fail if the label is not present in the axis.\u001b[39;00m\n\u001b[1;32m-> 1293\u001b[0m     \u001b[39mreturn\u001b[39;00m \u001b[39mself\u001b[39;49m\u001b[39m.\u001b[39;49mobj\u001b[39m.\u001b[39;49mxs(label, axis\u001b[39m=\u001b[39;49maxis)\n",
      "File \u001b[1;32mc:\\Users\\brend\\AppData\\Local\\Programs\\Python\\Python311\\Lib\\site-packages\\pandas\\core\\generic.py:4095\u001b[0m, in \u001b[0;36mNDFrame.xs\u001b[1;34m(self, key, axis, level, drop_level)\u001b[0m\n\u001b[0;32m   4093\u001b[0m             new_index \u001b[39m=\u001b[39m index[loc]\n\u001b[0;32m   4094\u001b[0m \u001b[39melse\u001b[39;00m:\n\u001b[1;32m-> 4095\u001b[0m     loc \u001b[39m=\u001b[39m index\u001b[39m.\u001b[39;49mget_loc(key)\n\u001b[0;32m   4097\u001b[0m     \u001b[39mif\u001b[39;00m \u001b[39misinstance\u001b[39m(loc, np\u001b[39m.\u001b[39mndarray):\n\u001b[0;32m   4098\u001b[0m         \u001b[39mif\u001b[39;00m loc\u001b[39m.\u001b[39mdtype \u001b[39m==\u001b[39m np\u001b[39m.\u001b[39mbool_:\n",
      "File \u001b[1;32mc:\\Users\\brend\\AppData\\Local\\Programs\\Python\\Python311\\Lib\\site-packages\\pandas\\core\\indexes\\base.py:3655\u001b[0m, in \u001b[0;36mIndex.get_loc\u001b[1;34m(self, key)\u001b[0m\n\u001b[0;32m   3653\u001b[0m     \u001b[39mreturn\u001b[39;00m \u001b[39mself\u001b[39m\u001b[39m.\u001b[39m_engine\u001b[39m.\u001b[39mget_loc(casted_key)\n\u001b[0;32m   3654\u001b[0m \u001b[39mexcept\u001b[39;00m \u001b[39mKeyError\u001b[39;00m \u001b[39mas\u001b[39;00m err:\n\u001b[1;32m-> 3655\u001b[0m     \u001b[39mraise\u001b[39;00m \u001b[39mKeyError\u001b[39;00m(key) \u001b[39mfrom\u001b[39;00m \u001b[39merr\u001b[39;00m\n\u001b[0;32m   3656\u001b[0m \u001b[39mexcept\u001b[39;00m \u001b[39mTypeError\u001b[39;00m:\n\u001b[0;32m   3657\u001b[0m     \u001b[39m# If we have a listlike key, _check_indexing_error will raise\u001b[39;00m\n\u001b[0;32m   3658\u001b[0m     \u001b[39m#  InvalidIndexError. Otherwise we fall through and re-raise\u001b[39;00m\n\u001b[0;32m   3659\u001b[0m     \u001b[39m#  the TypeError.\u001b[39;00m\n\u001b[0;32m   3660\u001b[0m     \u001b[39mself\u001b[39m\u001b[39m.\u001b[39m_check_indexing_error(key)\n",
      "\u001b[1;31mKeyError\u001b[0m: 'Empresa que não existe'"
     ]
    }
   ],
   "source": [
    "# Esse código vai falhar\n",
    "s.loc[\"Empresa que não existe\"]"
   ]
  },
  {
   "cell_type": "code",
   "execution_count": 16,
   "metadata": {},
   "outputs": [
    {
     "ename": "IndexError",
     "evalue": "single positional indexer is out-of-bounds",
     "output_type": "error",
     "traceback": [
      "\u001b[1;31m---------------------------------------------------------------------------\u001b[0m",
      "\u001b[1;31mIndexError\u001b[0m                                Traceback (most recent call last)",
      "Cell \u001b[1;32mIn[16], line 3\u001b[0m\n\u001b[0;32m      1\u001b[0m \u001b[39m# Este código também irá falhar , 132 está fora dos limites da série.\u001b[39;00m\n\u001b[0;32m      2\u001b[0m \u001b[39m# (não existem tantos elementos na série)\u001b[39;00m\n\u001b[1;32m----> 3\u001b[0m s\u001b[39m.\u001b[39;49miloc[\u001b[39m132\u001b[39;49m]\n",
      "File \u001b[1;32mc:\\Users\\brend\\AppData\\Local\\Programs\\Python\\Python311\\Lib\\site-packages\\pandas\\core\\indexing.py:1103\u001b[0m, in \u001b[0;36m_LocationIndexer.__getitem__\u001b[1;34m(self, key)\u001b[0m\n\u001b[0;32m   1100\u001b[0m axis \u001b[39m=\u001b[39m \u001b[39mself\u001b[39m\u001b[39m.\u001b[39maxis \u001b[39mor\u001b[39;00m \u001b[39m0\u001b[39m\n\u001b[0;32m   1102\u001b[0m maybe_callable \u001b[39m=\u001b[39m com\u001b[39m.\u001b[39mapply_if_callable(key, \u001b[39mself\u001b[39m\u001b[39m.\u001b[39mobj)\n\u001b[1;32m-> 1103\u001b[0m \u001b[39mreturn\u001b[39;00m \u001b[39mself\u001b[39;49m\u001b[39m.\u001b[39;49m_getitem_axis(maybe_callable, axis\u001b[39m=\u001b[39;49maxis)\n",
      "File \u001b[1;32mc:\\Users\\brend\\AppData\\Local\\Programs\\Python\\Python311\\Lib\\site-packages\\pandas\\core\\indexing.py:1656\u001b[0m, in \u001b[0;36m_iLocIndexer._getitem_axis\u001b[1;34m(self, key, axis)\u001b[0m\n\u001b[0;32m   1653\u001b[0m     \u001b[39mraise\u001b[39;00m \u001b[39mTypeError\u001b[39;00m(\u001b[39m\"\u001b[39m\u001b[39mCannot index by location index with a non-integer key\u001b[39m\u001b[39m\"\u001b[39m)\n\u001b[0;32m   1655\u001b[0m \u001b[39m# validate the location\u001b[39;00m\n\u001b[1;32m-> 1656\u001b[0m \u001b[39mself\u001b[39;49m\u001b[39m.\u001b[39;49m_validate_integer(key, axis)\n\u001b[0;32m   1658\u001b[0m \u001b[39mreturn\u001b[39;00m \u001b[39mself\u001b[39m\u001b[39m.\u001b[39mobj\u001b[39m.\u001b[39m_ixs(key, axis\u001b[39m=\u001b[39maxis)\n",
      "File \u001b[1;32mc:\\Users\\brend\\AppData\\Local\\Programs\\Python\\Python311\\Lib\\site-packages\\pandas\\core\\indexing.py:1589\u001b[0m, in \u001b[0;36m_iLocIndexer._validate_integer\u001b[1;34m(self, key, axis)\u001b[0m\n\u001b[0;32m   1587\u001b[0m len_axis \u001b[39m=\u001b[39m \u001b[39mlen\u001b[39m(\u001b[39mself\u001b[39m\u001b[39m.\u001b[39mobj\u001b[39m.\u001b[39m_get_axis(axis))\n\u001b[0;32m   1588\u001b[0m \u001b[39mif\u001b[39;00m key \u001b[39m>\u001b[39m\u001b[39m=\u001b[39m len_axis \u001b[39mor\u001b[39;00m key \u001b[39m<\u001b[39m \u001b[39m-\u001b[39mlen_axis:\n\u001b[1;32m-> 1589\u001b[0m     \u001b[39mraise\u001b[39;00m \u001b[39mIndexError\u001b[39;00m(\u001b[39m\"\u001b[39m\u001b[39msingle positional indexer is out-of-bounds\u001b[39m\u001b[39m\"\u001b[39m)\n",
      "\u001b[1;31mIndexError\u001b[0m: single positional indexer is out-of-bounds"
     ]
    }
   ],
   "source": [
    "# Este código também irá falhar , 132 está fora dos limites da série.\n",
    "# (não existem tantos elementos na série)\n",
    "s.iloc[132]"
   ]
  },
  {
   "cell_type": "markdown",
   "metadata": {},
   "source": [
    "Poderíamos evitar esses erros usando a verificação de associação `in`:"
   ]
  },
  {
   "cell_type": "code",
   "execution_count": 17,
   "metadata": {},
   "outputs": [
    {
     "data": {
      "text/plain": [
       "True"
      ]
     },
     "execution_count": 17,
     "metadata": {},
     "output_type": "execute_result"
    }
   ],
   "source": [
    "\"Apple\" in s"
   ]
  },
  {
   "cell_type": "code",
   "execution_count": 18,
   "metadata": {},
   "outputs": [
    {
     "data": {
      "text/plain": [
       "False"
      ]
     },
     "execution_count": 18,
     "metadata": {},
     "output_type": "execute_result"
    }
   ],
   "source": [
    "\"Snapchat\" in s"
   ]
  },
  {
   "cell_type": "markdown",
   "metadata": {},
   "source": [
    "### Multipla Seleção:\n",
    "\n",
    "Até agora, as Séries parecem ser dicionários aprimorados. No entanto, este único recurso as diferencia.\n",
    "\n",
    "Tanto na seleção pelo índice quanto na seleção pela posição, você pode passar vários elementos para serem retornados. Isso é extremamente conveniente.\n",
    "\n",
    "Preste atenção ao valor retornado: outra Série, poderíamos dizer uma 'sub-série', apenas com os valores solicitados. No Pandas, a seleção de Séries retorna outras séries, a seleção de DataFrames retorna outros DataFrames ou outras Séries, etc.\n",
    "\n",
    "Vamos ver isso em ação. Para selecionar vários elementos (pelo índice/label), nós simplesmente passamos uma lista dos labels:\n",
    "\n",
    "s.loc[[\"Apple\", \"Intel\", \"Sony\"]]\n",
    "Para selecionar múltiplos valores pela posição, também passamos uma lista com as posições:\n",
    "\n",
    "s.iloc[[0, 5, -1]]\""
   ]
  },
  {
   "cell_type": "code",
   "execution_count": 10,
   "metadata": {},
   "outputs": [
    {
     "data": {
      "text/plain": [
       "Apple    274515\n",
       "Intel     77867\n",
       "Sony      84893\n",
       "Name: Principais Empresas de Tecnologia por Receita, dtype: int64"
      ]
     },
     "execution_count": 10,
     "metadata": {},
     "output_type": "execute_result"
    }
   ],
   "source": [
    "# Por índice\n",
    "s[['Apple','Intel','Sony']]"
   ]
  },
  {
   "cell_type": "code",
   "execution_count": 11,
   "metadata": {},
   "outputs": [
    {
     "data": {
      "text/plain": [
       "Apple        274515\n",
       "Huawei       129184\n",
       "Panasonic     63191\n",
       "Name: Principais Empresas de Tecnologia por Receita, dtype: int64"
      ]
     },
     "execution_count": 11,
     "metadata": {},
     "output_type": "execute_result"
    }
   ],
   "source": [
    "# Por posição:\n",
    "s.iloc[[0, 5, -1]]"
   ]
  },
  {
   "cell_type": "markdown",
   "metadata": {},
   "source": [
    "### Exercitando"
   ]
  },
  {
   "cell_type": "markdown",
   "metadata": {},
   "source": [
    "### Localizando por índice"
   ]
  },
  {
   "cell_type": "code",
   "execution_count": 22,
   "metadata": {},
   "outputs": [
    {
     "data": {
      "text/plain": [
       "77867"
      ]
     },
     "execution_count": 22,
     "metadata": {},
     "output_type": "execute_result"
    }
   ],
   "source": [
    "# Selecionando o receita da Intel e armazenando em uma variável \n",
    "receita_intel = s.loc['Intel']\n",
    "receita_intel"
   ]
  },
  {
   "cell_type": "markdown",
   "metadata": {},
   "source": [
    "### Localizando por posição:"
   ]
  },
  {
   "cell_type": "code",
   "execution_count": 23,
   "metadata": {},
   "outputs": [],
   "source": [
    "# Selecionando a receita do \"segundo a partir do último\" elemento em nossa série \n",
    "# e armazenando em uma variável chamada segundo_a_partir_do_ultimo:\n",
    "segundo_a_partir_do_ultimo = s.iloc[-2]\n"
   ]
  },
  {
   "cell_type": "markdown",
   "metadata": {},
   "source": [
    "### Seleção Múltipla\n",
    "Usando a seleção de vários labels para retornar as receitas das empresas:\n",
    "+ Samsung\n",
    "+ Dell Technologies\n",
    "+ Panasonic\n",
    "+ Microsoft"
   ]
  },
  {
   "cell_type": "code",
   "execution_count": 8,
   "metadata": {},
   "outputs": [],
   "source": [
    "sub_series = s.loc[[\"Samsung\",\"Dell Technologies\", \"Panasonic\", \"Microsoft\"]]"
   ]
  },
  {
   "cell_type": "markdown",
   "metadata": {},
   "source": [
    "## Atributos de Séries e Métodos\n",
    "\n"
   ]
  },
  {
   "cell_type": "markdown",
   "metadata": {},
   "source": [
    "As Séries contêm muitos atributos e métodos úteis para interagir com elas. Provavelmente, os dois mais comuns que você verá o tempo todo são `.head()` e `.tail()`. Isso retorna apenas 5 elementos do início da série (`.head()`) ou do final dela (`.tail()`). Isso é útil quando você está trabalhando com dados reais (possivelmente MILHÕES de valores). Você também pode passar um número de elementos a serem retornados: `.head(3)` e `.tail(2)`.\n",
    "\n",
    "Uma vez que uma série é construída (de alguma forma), podemos acessar todos os atributos separadamente. São eles:\n",
    "\n",
    "+ Os dados da série: usando o atributo `.values`\n",
    "+ O índice: usando `.index`\n",
    "+ O nome: usando `.name`\n",
    "+ O tipo atribuído: usando `.dtype`\n",
    "+ O número de elementos: usando `.size`"
   ]
  },
  {
   "cell_type": "code",
   "execution_count": 15,
   "metadata": {},
   "outputs": [
    {
     "data": {
      "text/plain": [
       "Apple        274515\n",
       "Samsung      200734\n",
       "Alphabet     182527\n",
       "Foxconn      181945\n",
       "Microsoft    143015\n",
       "Name: Principais Empresas de Tecnologia por Receita, dtype: int64"
      ]
     },
     "execution_count": 15,
     "metadata": {},
     "output_type": "execute_result"
    }
   ],
   "source": [
    "s.head()"
   ]
  },
  {
   "cell_type": "code",
   "execution_count": 16,
   "metadata": {},
   "outputs": [
    {
     "data": {
      "text/plain": [
       "Hitachi      82345\n",
       "Intel        77867\n",
       "IBM          73620\n",
       "Tencent      69864\n",
       "Panasonic    63191\n",
       "Name: Principais Empresas de Tecnologia por Receita, dtype: int64"
      ]
     },
     "execution_count": 16,
     "metadata": {},
     "output_type": "execute_result"
    }
   ],
   "source": [
    "s.tail()"
   ]
  },
  {
   "cell_type": "code",
   "execution_count": 18,
   "metadata": {},
   "outputs": [
    {
     "data": {
      "text/plain": [
       "array([274515, 200734, 182527, 181945, 143015, 129184,  92224,  85965,\n",
       "        84893,  82345,  77867,  73620,  69864,  63191], dtype=int64)"
      ]
     },
     "execution_count": 18,
     "metadata": {},
     "output_type": "execute_result"
    }
   ],
   "source": [
    "# Os dados subjacentes:\n",
    "s.values"
   ]
  },
  {
   "cell_type": "code",
   "execution_count": 19,
   "metadata": {},
   "outputs": [
    {
     "data": {
      "text/plain": [
       "Index(['Apple', 'Samsung', 'Alphabet', 'Foxconn', 'Microsoft', 'Huawei',\n",
       "       'Dell Technologies', 'Meta', 'Sony', 'Hitachi', 'Intel', 'IBM',\n",
       "       'Tencent', 'Panasonic'],\n",
       "      dtype='object')"
      ]
     },
     "execution_count": 19,
     "metadata": {},
     "output_type": "execute_result"
    }
   ],
   "source": [
    "# os indice\n",
    "s.index"
   ]
  },
  {
   "cell_type": "code",
   "execution_count": 21,
   "metadata": {},
   "outputs": [
    {
     "data": {
      "text/plain": [
       "'Principais Empresas de Tecnologia por Receita'"
      ]
     },
     "execution_count": 21,
     "metadata": {},
     "output_type": "execute_result"
    }
   ],
   "source": [
    "# o nome da série (se houver)\n",
    "s.name"
   ]
  },
  {
   "cell_type": "code",
   "execution_count": 22,
   "metadata": {},
   "outputs": [
    {
     "data": {
      "text/plain": [
       "dtype('int64')"
      ]
     },
     "execution_count": 22,
     "metadata": {},
     "output_type": "execute_result"
    }
   ],
   "source": [
    "# O tipo associado aos valores:\n",
    "s.dtype"
   ]
  },
  {
   "cell_type": "code",
   "execution_count": 25,
   "metadata": {},
   "outputs": [
    {
     "data": {
      "text/plain": [
       "14"
      ]
     },
     "execution_count": 25,
     "metadata": {},
     "output_type": "execute_result"
    }
   ],
   "source": [
    "# O tamanho da série:\n",
    "s.size\n",
    "\n",
    "# ou \n",
    "\n",
    "len(s)"
   ]
  },
  {
   "cell_type": "markdown",
   "metadata": {},
   "source": [
    "### Métodos Estatísticos\n",
    "\n",
    "Usamos o Pandas para processamento de dados. E um componente significativo do processamento de dados é entender suas implicações estatísticas.\n",
    "\n",
    "O método `.describe()` fornece um resumo rápido das estatísticas da sua série.\n",
    "\n",
    "Também existem métodos individuais para cada um dos valores retornados por `.describe()`: `.max()`, `.min()`, `.mean()`, `.median()`, etc.\n",
    "\n",
    "Existe também um método `.quantile()` para verificar quantis específicos (ou percentis). Por exemplo, para obter o percentil 75, você pode usar: `s.quantile(.75)`."
   ]
  },
  {
   "cell_type": "code",
   "execution_count": 26,
   "metadata": {},
   "outputs": [
    {
     "data": {
      "text/plain": [
       "count        14.000000\n",
       "mean     124420.642857\n",
       "std       63686.481231\n",
       "min       63191.000000\n",
       "25%       78986.500000\n",
       "50%       89094.500000\n",
       "75%      172212.500000\n",
       "max      274515.000000\n",
       "Name: Principais Empresas de Tecnologia por Receita, dtype: float64"
      ]
     },
     "execution_count": 26,
     "metadata": {},
     "output_type": "execute_result"
    }
   ],
   "source": [
    "s.describe()"
   ]
  },
  {
   "cell_type": "code",
   "execution_count": 27,
   "metadata": {},
   "outputs": [
    {
     "data": {
      "text/plain": [
       "124420.64285714286"
      ]
     },
     "execution_count": 27,
     "metadata": {},
     "output_type": "execute_result"
    }
   ],
   "source": [
    "s.mean()"
   ]
  },
  {
   "cell_type": "code",
   "execution_count": 30,
   "metadata": {},
   "outputs": [
    {
     "data": {
      "text/plain": [
       "89094.5"
      ]
     },
     "execution_count": 30,
     "metadata": {},
     "output_type": "execute_result"
    }
   ],
   "source": [
    "s.median()"
   ]
  },
  {
   "cell_type": "code",
   "execution_count": 31,
   "metadata": {},
   "outputs": [
    {
     "data": {
      "text/plain": [
       "63686.48123135607"
      ]
     },
     "execution_count": 31,
     "metadata": {},
     "output_type": "execute_result"
    }
   ],
   "source": [
    "s.std()"
   ]
  },
  {
   "cell_type": "code",
   "execution_count": 32,
   "metadata": {},
   "outputs": [
    {
     "data": {
      "text/plain": [
       "63191"
      ]
     },
     "execution_count": 32,
     "metadata": {},
     "output_type": "execute_result"
    }
   ],
   "source": [
    "s.min()"
   ]
  },
  {
   "cell_type": "code",
   "execution_count": 33,
   "metadata": {},
   "outputs": [
    {
     "data": {
      "text/plain": [
       "274515"
      ]
     },
     "execution_count": 33,
     "metadata": {},
     "output_type": "execute_result"
    }
   ],
   "source": [
    "s.max()"
   ]
  },
  {
   "cell_type": "code",
   "execution_count": 29,
   "metadata": {},
   "outputs": [
    {
     "data": {
      "text/plain": [
       "172212.5"
      ]
     },
     "execution_count": 29,
     "metadata": {},
     "output_type": "execute_result"
    }
   ],
   "source": [
    "s.quantile(.75)"
   ]
  },
  {
   "cell_type": "markdown",
   "metadata": {},
   "source": [
    "### Exercitando"
   ]
  },
  {
   "cell_type": "code",
   "execution_count": 44,
   "metadata": {},
   "outputs": [
    {
     "data": {
      "text/plain": [
       "Meta                  85965\n",
       "IBM                   73620\n",
       "Microsoft            143015\n",
       "Dell Technologies     92224\n",
       "Apple                274515\n",
       "Intel                 77867\n",
       "Alphabet             182527\n",
       "Name: Principais Empresas de Tecnologia por Receita, dtype: int64"
      ]
     },
     "execution_count": 44,
     "metadata": {},
     "output_type": "execute_result"
    }
   ],
   "source": [
    "empresas_americanas = s[[\n",
    "    'Meta', 'IBM', 'Microsoft',\n",
    "    'Dell Technologies', 'Apple', 'Intel', 'Alphabet'\n",
    "]]\n",
    "empresas_americanas"
   ]
  },
  {
   "cell_type": "code",
   "execution_count": 14,
   "metadata": {},
   "outputs": [
    {
     "data": {
      "text/plain": [
       "132819.0"
      ]
     },
     "execution_count": 14,
     "metadata": {},
     "output_type": "execute_result"
    }
   ],
   "source": [
    "# A receita média das empresas americanas:\n",
    "empresas_americanas.mean()"
   ]
  },
  {
   "cell_type": "code",
   "execution_count": 34,
   "metadata": {},
   "outputs": [
    {
     "data": {
      "text/plain": [
       "92224.0"
      ]
     },
     "execution_count": 34,
     "metadata": {},
     "output_type": "execute_result"
    }
   ],
   "source": [
    "# A mediana da receita das empresas americanas\n",
    "empresas_americanas.median()"
   ]
  },
  {
   "cell_type": "markdown",
   "metadata": {},
   "source": [
    "## Ordenando Séries"
   ]
  },
  {
   "cell_type": "markdown",
   "metadata": {},
   "source": [
    "Podemos ordenar por ambos os atributos: Valores, índices usando os métodos .sort_values() e .sort_index().\n",
    "\n",
    " Para ordenar os valores da série (ou seja, a receita), usamos o método `.sort_values()`. Para ordenar a série pelo seu índice (neste caso, lexicograficamente pelo nome da empresa), usamos o método `.sort_index()`. O método de ordenação padrão é em ordem \"crescente\". Para ordenar em ordem \"decrescente\", você deve passar o parâmetro `ascending=False` (para ambos os métodos)."
   ]
  },
  {
   "cell_type": "markdown",
   "metadata": {},
   "source": [
    "### Ordenando por valor ou indice"
   ]
  },
  {
   "cell_type": "code",
   "execution_count": 35,
   "metadata": {},
   "outputs": [
    {
     "data": {
      "text/plain": [
       "Panasonic             63191\n",
       "Tencent               69864\n",
       "IBM                   73620\n",
       "Intel                 77867\n",
       "Hitachi               82345\n",
       "Sony                  84893\n",
       "Meta                  85965\n",
       "Dell Technologies     92224\n",
       "Huawei               129184\n",
       "Microsoft            143015\n",
       "Foxconn              181945\n",
       "Alphabet             182527\n",
       "Samsung              200734\n",
       "Apple                274515\n",
       "Name: Principais Empresas de Tecnologia por Receita, dtype: int64"
      ]
     },
     "execution_count": 35,
     "metadata": {},
     "output_type": "execute_result"
    }
   ],
   "source": [
    "# Sorteando por valores (modo ascendente)\n",
    "s.sort_values()"
   ]
  },
  {
   "cell_type": "code",
   "execution_count": 36,
   "metadata": {},
   "outputs": [
    {
     "data": {
      "text/plain": [
       "Apple        274515\n",
       "Samsung      200734\n",
       "Alphabet     182527\n",
       "Foxconn      181945\n",
       "Microsoft    143015\n",
       "Name: Principais Empresas de Tecnologia por Receita, dtype: int64"
      ]
     },
     "execution_count": 36,
     "metadata": {},
     "output_type": "execute_result"
    }
   ],
   "source": [
    "# Sorteando por valores (modo descendente)\n",
    "s.sort_values(ascending=False).head()"
   ]
  },
  {
   "cell_type": "code",
   "execution_count": 37,
   "metadata": {},
   "outputs": [
    {
     "data": {
      "text/plain": [
       "Alphabet             182527\n",
       "Apple                274515\n",
       "Dell Technologies     92224\n",
       "Foxconn              181945\n",
       "Hitachi               82345\n",
       "Huawei               129184\n",
       "IBM                   73620\n",
       "Intel                 77867\n",
       "Meta                  85965\n",
       "Microsoft            143015\n",
       "Panasonic             63191\n",
       "Samsung              200734\n",
       "Sony                  84893\n",
       "Tencent               69864\n",
       "Name: Principais Empresas de Tecnologia por Receita, dtype: int64"
      ]
     },
     "execution_count": 37,
     "metadata": {},
     "output_type": "execute_result"
    }
   ],
   "source": [
    "# Sorteando por indices (modo ascendente)\n",
    "s.sort_index()"
   ]
  },
  {
   "cell_type": "code",
   "execution_count": 38,
   "metadata": {},
   "outputs": [
    {
     "data": {
      "text/plain": [
       "Tencent       69864\n",
       "Sony          84893\n",
       "Samsung      200734\n",
       "Panasonic     63191\n",
       "Microsoft    143015\n",
       "Name: Principais Empresas de Tecnologia por Receita, dtype: int64"
      ]
     },
     "execution_count": 38,
     "metadata": {},
     "output_type": "execute_result"
    }
   ],
   "source": [
    "# Sorteando por indices (modo descendente)\n",
    "s.sort_index(ascending=False).head()"
   ]
  },
  {
   "cell_type": "markdown",
   "metadata": {},
   "source": [
    "### Exercitando"
   ]
  },
  {
   "cell_type": "code",
   "execution_count": 40,
   "metadata": {},
   "outputs": [
    {
     "data": {
      "text/plain": [
       "Apple    274515\n",
       "Name: Principais Empresas de Tecnologia por Receita, dtype: int64"
      ]
     },
     "execution_count": 40,
     "metadata": {},
     "output_type": "execute_result"
    }
   ],
   "source": [
    "# Empresa com a maior receita\n",
    "s.sort_values(ascending=False).head(1)"
   ]
  },
  {
   "cell_type": "code",
   "execution_count": 42,
   "metadata": {},
   "outputs": [
    {
     "data": {
      "text/plain": [
       "Alphabet    182527\n",
       "Name: Principais Empresas de Tecnologia por Receita, dtype: int64"
      ]
     },
     "execution_count": 42,
     "metadata": {},
     "output_type": "execute_result"
    }
   ],
   "source": [
    "# Ordenando a primeira empresa  lexicograficamente.\n",
    "s.sort_index().head(1)"
   ]
  },
  {
   "cell_type": "markdown",
   "metadata": {},
   "source": [
    "## Imutabilidade\n",
    "\n"
   ]
  },
  {
   "cell_type": "markdown",
   "metadata": {},
   "source": [
    "O segundo conceito importante é a imutabilidade, e isso não se aplica apenas a Series; é um conceito amplamente utilizado no pandas e na Ciência de Dados em geral. Quando \"classificamos uma série\", na verdade não estamos ordenando a série em si. Uma NOVA série é retornada. A série subjacente NÃO mudou; ela NÃO foi modificada.\n",
    "\n",
    "Não queremos alterar/mutar coisas, pois é mais difícil acompanhar essas mudanças.\n",
    "\n",
    "Se por acaso você DESEJA realmente mutar sua série, neste caso, você deseja classificá-la e alterar a série subjacente (em s neste caso), você deve passar o atributo `inplace=True`. Ao fazer isso, você verá que desta vez o método não retorna nada, mas a série subjacente (em `s´`) foi alterada para conter os dados na ordem necessária."
   ]
  },
  {
   "cell_type": "markdown",
   "metadata": {},
   "source": [
    "### Exercitando"
   ]
  },
  {
   "cell_type": "code",
   "execution_count": 46,
   "metadata": {},
   "outputs": [
    {
     "data": {
      "text/plain": [
       "Apple                274515\n",
       "Alphabet             182527\n",
       "Microsoft            143015\n",
       "Dell Technologies     92224\n",
       "Meta                  85965\n",
       "Intel                 77867\n",
       "IBM                   73620\n",
       "Name: Principais Empresas de Tecnologia por Receita, dtype: int64"
      ]
     },
     "execution_count": 46,
     "metadata": {},
     "output_type": "execute_result"
    }
   ],
   "source": [
    "# Ordenando Empresas Americanas por valor de receita\n",
    "empresas_americanas_desc = empresas_americanas.sort_values(ascending=False)\n",
    "empresas_americanas_desc"
   ]
  },
  {
   "cell_type": "code",
   "execution_count": 50,
   "metadata": {},
   "outputs": [
    {
     "data": {
      "text/plain": [
       "Samsung      200734\n",
       "Foxconn      181945\n",
       "Huawei       129184\n",
       "Sony          84893\n",
       "Hitachi       82345\n",
       "Tencent       69864\n",
       "Panasonic     63191\n",
       "Name: Principais Empresas de Tecnologia por Receita, dtype: int64"
      ]
     },
     "execution_count": 50,
     "metadata": {},
     "output_type": "execute_result"
    }
   ],
   "source": [
    "# Ordene e Modifique empresas internacionais\n",
    "empresas_internacionais = s[[\n",
    "    \"Sony\", \"Tencent\",\"Panasonic\",\n",
    "    \"Samsung\",\"Hitachi\",\"Foxconn\", \"Huawei\"\n",
    "]]\n",
    "\n",
    "empresas_internacionais.sort_values(ascending=False, inplace=True)\n",
    "\n",
    "empresas_internacionais"
   ]
  },
  {
   "cell_type": "markdown",
   "metadata": {},
   "source": [
    "## Modificando Séries"
   ]
  },
  {
   "cell_type": "markdown",
   "metadata": {},
   "source": [
    "Modificar séries é algo que geralmente evitamos fazer.\n",
    "No entanto, ainda é possível modificar séries alterando valores, adicionando ou removendo elementos.\n",
    "\n",
    "Por exemplo, para modificar um valor existente, podemos simplesmente \"sobrescrevê-lo\", digamos que queremos definir a receita da IBM para $0. Podemos fazer simplesmente:\n",
    "\n",
    "`s['IBM'] = 0`\n",
    "\n",
    "Para adicionar elementos (ou alterar o valor de um elemento), você pode usar o índice do novo elemento: `s['Tesla'] = 21450`.\n",
    "\n",
    "Para remover um elemento, usamos a palavra-chave del e o índice: del `s[\"Apple\"]`.\n",
    "\n",
    "Essas são as mesmas maneiras que usamos para adicionar/remover elementos de dicionários."
   ]
  },
  {
   "cell_type": "code",
   "execution_count": 51,
   "metadata": {},
   "outputs": [],
   "source": [
    "# Alterando valores: \n",
    "s['IBM'] = 0"
   ]
  },
  {
   "cell_type": "code",
   "execution_count": 52,
   "metadata": {},
   "outputs": [
    {
     "data": {
      "text/plain": [
       "IBM              0\n",
       "Panasonic    63191\n",
       "Tencent      69864\n",
       "Intel        77867\n",
       "Hitachi      82345\n",
       "Name: Principais Empresas de Tecnologia por Receita, dtype: int64"
      ]
     },
     "execution_count": 52,
     "metadata": {},
     "output_type": "execute_result"
    }
   ],
   "source": [
    "s.sort_values().head()"
   ]
  },
  {
   "cell_type": "code",
   "execution_count": 64,
   "metadata": {},
   "outputs": [
    {
     "data": {
      "text/plain": [
       "IBM                       0.0\n",
       "Tesla                 21450.0\n",
       "Panasonic             63191.0\n",
       "Tencent               69864.0\n",
       "Intel                 77867.0\n",
       "Hitachi               82345.0\n",
       "Sony                  84893.0\n",
       "Meta                  85965.0\n",
       "Dell Technologies     92224.0\n",
       "Huawei               129184.0\n",
       "Microsoft            143015.0\n",
       "Foxconn              181945.0\n",
       "Alphabet             182527.0\n",
       "Samsung              200734.0\n",
       "Apple                274515.0\n",
       "Amazon               469822.0\n",
       "Name: Principais Empresas de Tecnologia por Receita, dtype: float64"
      ]
     },
     "execution_count": 64,
     "metadata": {},
     "output_type": "execute_result"
    }
   ],
   "source": [
    "# Adicionando Elementos: \n",
    "s['Tesla'] = 21450\n",
    "s['Amazon'] = 469822.0\n",
    "s.sort_values()#.head()"
   ]
  },
  {
   "cell_type": "code",
   "execution_count": 65,
   "metadata": {},
   "outputs": [
    {
     "data": {
      "text/plain": [
       "IBM              0.0\n",
       "Panasonic    63191.0\n",
       "Tencent      69864.0\n",
       "Intel        77867.0\n",
       "Hitachi      82345.0\n",
       "Name: Principais Empresas de Tecnologia por Receita, dtype: float64"
      ]
     },
     "execution_count": 65,
     "metadata": {},
     "output_type": "execute_result"
    }
   ],
   "source": [
    "# Removendo elementos: \n",
    "\n",
    "del s['Tesla']\n",
    "del s['Amazon']\n",
    "\n",
    "s.sort_values().head()"
   ]
  },
  {
   "cell_type": "markdown",
   "metadata": {},
   "source": [
    "## Concatenando Séries"
   ]
  },
  {
   "cell_type": "markdown",
   "metadata": {},
   "source": [
    "Por fim, se você deseja \"concatenar\" duas séries, pode usar o método `concat()` como mostrado no exemplo no caderno. Nesse caso, o método retorna uma nova série ou quadro de dados com os valores das duas séries ou quadros de dados concatenados."
   ]
  },
  {
   "cell_type": "markdown",
   "metadata": {},
   "source": [
    "Podemos anexar séries a outras séries usando o método `.concat()`:"
   ]
  },
  {
   "cell_type": "code",
   "execution_count": 67,
   "metadata": {},
   "outputs": [
    {
     "data": {
      "text/plain": [
       "Tesla       21450\n",
       "Snapchat     4120\n",
       "dtype: int64"
      ]
     },
     "execution_count": 67,
     "metadata": {},
     "output_type": "execute_result"
    }
   ],
   "source": [
    "outra_serie = pd.Series(\n",
    "    [21_450, 4_120],index=['Tesla', 'Snapchat']\n",
    "    )\n",
    "\n",
    "outra_serie"
   ]
  },
  {
   "cell_type": "code",
   "execution_count": 68,
   "metadata": {},
   "outputs": [],
   "source": [
    "nova_outra_serie = pd.concat([s, outra_serie])"
   ]
  },
  {
   "cell_type": "code",
   "execution_count": 69,
   "metadata": {},
   "outputs": [
    {
     "data": {
      "text/plain": [
       "Apple                274515.0\n",
       "Samsung              200734.0\n",
       "Alphabet             182527.0\n",
       "Foxconn              181945.0\n",
       "Microsoft            143015.0\n",
       "Huawei               129184.0\n",
       "Dell Technologies     92224.0\n",
       "Meta                  85965.0\n",
       "Sony                  84893.0\n",
       "Hitachi               82345.0\n",
       "Intel                 77867.0\n",
       "IBM                       0.0\n",
       "Tencent               69864.0\n",
       "Panasonic             63191.0\n",
       "Name: Principais Empresas de Tecnologia por Receita, dtype: float64"
      ]
     },
     "execution_count": 69,
     "metadata": {},
     "output_type": "execute_result"
    }
   ],
   "source": [
    "s"
   ]
  },
  {
   "cell_type": "code",
   "execution_count": 70,
   "metadata": {},
   "outputs": [
    {
     "data": {
      "text/plain": [
       "Apple                274515.0\n",
       "Samsung              200734.0\n",
       "Alphabet             182527.0\n",
       "Foxconn              181945.0\n",
       "Microsoft            143015.0\n",
       "Huawei               129184.0\n",
       "Dell Technologies     92224.0\n",
       "Meta                  85965.0\n",
       "Sony                  84893.0\n",
       "Hitachi               82345.0\n",
       "Intel                 77867.0\n",
       "IBM                       0.0\n",
       "Tencent               69864.0\n",
       "Panasonic             63191.0\n",
       "Tesla                 21450.0\n",
       "Snapchat               4120.0\n",
       "dtype: float64"
      ]
     },
     "execution_count": 70,
     "metadata": {},
     "output_type": "execute_result"
    }
   ],
   "source": [
    "nova_outra_serie"
   ]
  }
 ],
 "metadata": {
  "kernelspec": {
   "display_name": "Python 3",
   "language": "python",
   "name": "python3"
  },
  "language_info": {
   "codemirror_mode": {
    "name": "ipython",
    "version": 3
   },
   "file_extension": ".py",
   "mimetype": "text/x-python",
   "name": "python",
   "nbconvert_exporter": "python",
   "pygments_lexer": "ipython3",
   "version": "3.11.4"
  },
  "orig_nbformat": 4
 },
 "nbformat": 4,
 "nbformat_minor": 2
}
