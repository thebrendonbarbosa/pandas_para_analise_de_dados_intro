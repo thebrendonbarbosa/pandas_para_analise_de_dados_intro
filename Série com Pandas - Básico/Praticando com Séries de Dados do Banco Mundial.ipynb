{
 "cells": [
  {
   "cell_type": "markdown",
   "metadata": {},
   "source": [
    "# Introdução\n",
    "Neste notebook, utilizaremos o Pandas para explorar os dados do Banco Mundial sobre indicadores econômicos, políticos e sociais para países ao redor do mundo. Os dados foram coletados do Kaggle.\n",
    "\n",
    "Os dados do Banco Mundial estão organizados em diversas categorias diferentes, incluindo:\n",
    "\n",
    "**Economia:** Esta categoria inclui dados sobre o PIB, população, inflação e desemprego.\n",
    "\n",
    "**Governo:** Esta categoria inclui dados sobre gastos públicos, impostos e dívida.\n",
    "\n",
    "**Social:** Esta categoria inclui dados sobre educação, saúde e pobreza.\n",
    "Os dados estão armazenados em um arquivo Excel.\n",
    "\n",
    "Neste projeto será apresentado:\n",
    "\n",
    "\n",
    "*   Como criar séries pandas;\n",
    "*   Atributos básicos de séries como formato, tamanho e tipo de dado;\n",
    "*   Acessar dados em séries pandas;\n",
    "*   Realizar operações estatísticas básicas em séries pandas;\n",
    "\n",
    "Ao final estaremos aptos a utilizar o pandas para explorar e analisar os dados do Banco Mundial sobre indicadores econômicos, políticos e sociais para países ao redor do mundo."
   ]
  },
  {
   "cell_type": "code",
   "execution_count": null,
   "metadata": {},
   "outputs": [],
   "source": []
  }
 ],
 "metadata": {
  "language_info": {
   "name": "python"
  },
  "orig_nbformat": 4
 },
 "nbformat": 4,
 "nbformat_minor": 2
}
